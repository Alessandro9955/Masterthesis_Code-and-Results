{
 "cells": [
  {
   "cell_type": "code",
   "execution_count": 1,
   "metadata": {
    "collapsed": false
   },
   "outputs": [],
   "source": [
    "from googletrans import Translator\n",
    "import openpyxl\n",
    "import time\n",
    "from langdetect import detect, LangDetectException"
   ]
  },
  {
   "cell_type": "code",
   "execution_count": 2,
   "metadata": {
    "collapsed": false
   },
   "outputs": [],
   "source": [
    "def translate(workbook, saveStr: str, worksheet, starting_row: int, lang: str):\n",
    "    # Initialize the translator\n",
    "    translator = Translator()\n",
    "\n",
    "    for row in range(starting_row, worksheet.max_row + 1):\n",
    "        try:\n",
    "            if row % 250 == 0:\n",
    "                print(row)\n",
    "            if row % 5000 == 0:\n",
    "                print('Buffering...')\n",
    "                workbook.save(saveStr)\n",
    "\n",
    "            # Get the text of the cell\n",
    "            cell_value = worksheet.cell(row=row, column=3).value\n",
    "\n",
    "            if lang != '':\n",
    "                translated_text = translator.translate(cell_value, src=lang, dest='en').text\n",
    "            else:\n",
    "                # Get the language of the text\n",
    "                src_lang = detect(cell_value)\n",
    "                if src_lang != 'en':\n",
    "                    translated_text = translator.translate(cell_value, src=src_lang, dest='en').text\n",
    "                else:\n",
    "                    continue\n",
    "\n",
    "            # Write the translated text to the corresponding cell in the column to write\n",
    "            worksheet.cell(row=row, column=10).value = translated_text\n",
    "\n",
    "        except (IndexError, TypeError, LangDetectException):\n",
    "            continue\n",
    "        except Exception as e:\n",
    "            print(e)\n",
    "            print('The exception occurred in row ' + str(row) + '. Trying again.')\n",
    "            time.sleep(5)\n",
    "            if not translate(workbook, saveStr, worksheet, row, lang):\n",
    "                return False\n",
    "            else:\n",
    "                break\n",
    "        except KeyboardInterrupt:\n",
    "            print('Interrupted in row ' + str(row) + '.')\n",
    "            return False\n",
    "\n",
    "    return True"
   ]
  },
  {
   "cell_type": "code",
   "execution_count": null,
   "metadata": {},
   "outputs": [],
   "source": [
    "# Code base\n",
    "\n",
    "workbook = openpyxl.load_workbook('SOURCE PATH')\n",
    "\n",
    "for name in workbook.sheetnames:\n",
    "    # Select the sheet you want to read and write to\n",
    "    worksheet = workbook[name]\n",
    "\n",
    "    # Select where to save the workbook\n",
    "    saveStr = 'SAVE PATH'\n",
    "\n",
    "    # Give the column for the translations a title\n",
    "    worksheet.cell(row=1, column=10).value = 'translation'\n",
    "\n",
    "    print('Translating...')\n",
    "\n",
    "    # Iterate over each cell in the column to read and write the translated value\n",
    "    if not translate(workbook, saveStr, worksheet, 2, ''):\n",
    "        print('Something went wrong.')\n",
    "    else:\n",
    "        print('Translation done!')\n",
    "\n",
    "# Save the changes to the workbook and close it afterwards\n",
    "workbook.save(saveStr)\n",
    "workbook.close()\n",
    "print('The workbook has been saved.')"
   ]
  },
  {
   "cell_type": "code",
   "execution_count": null,
   "metadata": {},
   "outputs": [],
   "source": []
  }
 ],
 "metadata": {
  "kernelspec": {
   "display_name": "Python 3",
   "language": "python",
   "name": "python3"
  },
  "language_info": {
   "codemirror_mode": {
    "name": "ipython",
    "version": 3
   },
   "file_extension": ".py",
   "mimetype": "text/x-python",
   "name": "python",
   "nbconvert_exporter": "python",
   "pygments_lexer": "ipython3",
   "version": "3.10.8"
  }
 },
 "nbformat": 4,
 "nbformat_minor": 0
}
