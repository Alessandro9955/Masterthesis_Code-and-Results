{
 "cells": [
  {
   "cell_type": "code",
   "execution_count": 1,
   "metadata": {
    "collapsed": true
   },
   "outputs": [],
   "source": [
    "import openpyxl"
   ]
  },
  {
   "cell_type": "code",
   "execution_count": 2,
   "metadata": {
    "collapsed": false
   },
   "outputs": [],
   "source": [
    "# Colums for access\n",
    "Privacy_List= ['abusive', 'adware', 'behavior', 'behavioral', 'behaviour', 'behavioural', 'consent', 'dodgy', 'encrypt', 'encryption', 'encrypts', 'ethical', 'fraud', 'hack', 'hacked', 'hacking', 'hacks', 'insecure', 'open source', 'open sourced', 'open-source', 'permission', 'permissions', 'phishing', 'privacy', 'protected', 'protection', 'ripoff', 'safe', 'scam', 'scammed', 'scammer', 'scammers', 'scamming', 'secure', 'secured', 'security', 'source code', 'spyware', 'third party', 'trustworthily', 'trustworthiness', 'trustworthy', 'unethical', 'unprotected', 'unprotection', 'unsafe', 'unsecure', 'untrustworthy']\n",
    "categories = {\n",
    "    'policy_related': {'keywords': ['agreement', 'agreements', 'policies', 'policy', 'regulation', 'regulations', 'regulatory'], 'column': 11},\n",
    "    'location_related': {'keywords': ['gps', 'location', 'locations', 'map'], 'column': 12},\n",
    "    'data_access_related': {'keywords': ['behavior', 'behavioral', 'behaviour', 'behavioural', 'data', 'access', 'information', 'personal', 'private', 'sharing', 'track', 'tracking'], 'column': 13},\n",
    "    'permission_related': {'keywords': ['authorisation', 'authorise', 'authorization', 'authorize', 'consent', 'consenting', 'consents', 'permission', 'permissions'], 'column': 14},\n",
    "    'ad_related': {'keywords': ['ad', 'ads', 'advert', 'advertisement', 'advertisements', 'adverts', 'adware'], 'column': 15},\n",
    "    'security_related': {'keywords': ['encrypt', 'encryption', 'encrypts', 'hack', 'hacked', 'hacking', 'hacks', 'insecure', 'phishing', 'secure', 'secured', 'security', 'unsecure'], 'column': 16},\n",
    "    'trust_related': {'keywords': ['abusive', 'ethical', 'open source', 'open sourced', 'open-source', 'protected', 'protection', 'safe', 'safety', 'source code', 'spyware', 'trust', 'trustworthily', 'trustworthiness', 'trustworthy', 'unethical', 'unprotected', 'unprotection', 'unsafe', 'untrustworthy'], 'column': 17},\n",
    "    'scam_related': {'keywords': ['fraud', 'paid', 'pay', 'payment', 'payments', 'purchase', 'purchased', 'ripoff', 'scam', 'scammed', 'scammer', 'scammers', 'scamming', 'subscribe', 'subscribed', 'subscriber', 'subscription'], 'column': 18}\n",
    "}"
   ]
  },
  {
   "cell_type": "code",
   "execution_count": 3,
   "metadata": {
    "collapsed": false
   },
   "outputs": [],
   "source": [
    "def classify(worksheet):\n",
    "    for row in range(2, worksheet.max_row + 1):\n",
    "        # Get the translated review or the original content (means no translation exists) or skip the row (means blank row)\n",
    "        if worksheet.cell(row=row, column=10).value is not None:\n",
    "            cell_value = str(worksheet.cell(row=row, column=10).value).lower().split()\n",
    "        elif worksheet.cell(row=row, column=3).value is not None:\n",
    "            cell_value = str(worksheet.cell(row=row, column=3).value).lower().split()\n",
    "        else:\n",
    "            continue\n",
    "        \n",
    "        # Check if the review has something to do with privacy issues\n",
    "        for keyword in Privacy_List:\n",
    "            if keyword in cell_value:\n",
    "                # Classify the review\n",
    "                for category in categories.items():\n",
    "                    column = category['column']\n",
    "                    for keyword2 in category['keywords']:\n",
    "                        if keyword2 in cell_value:\n",
    "                            worksheet.cell(row=row, column=column).value = 'Yes'\n",
    "                            break\n",
    "                break"
   ]
  },
  {
   "cell_type": "code",
   "execution_count": null,
   "metadata": {},
   "outputs": [],
   "source": [
    "# Code base\n",
    "workbook = openpyxl.load_workbook('SOURCE PATH')\n",
    "\n",
    "for name in workbook.sheetnames:\n",
    "    # Select the sheet you want to read and write to\n",
    "    worksheet = workbook[name]\n",
    "\n",
    "    print('Classifying worksheet...')\n",
    "\n",
    "    # Give the columns a title according to their classification topic    \n",
    "    for category_name, category in categories.items():\n",
    "        worksheet.cell(row=1, column=category['column']).value = category_name    \n",
    "\n",
    "    # Classify the worksheet\n",
    "    classify(worksheet)\n",
    "    \n",
    "    print('Worksheet classification done!')\n",
    "\n",
    "# Save the changes to the workbook and close it afterwards\n",
    "workbook.save('SAVE PATH')\n",
    "workbook.close()\n",
    "print('Classification for the whole workbook done! The workbook has been saved.')"
   ]
  }
 ],
 "metadata": {
  "kernelspec": {
   "display_name": "Python 3",
   "language": "python",
   "name": "python3"
  },
  "language_info": {
   "codemirror_mode": {
    "name": "ipython",
    "version": 3
   },
   "file_extension": ".py",
   "mimetype": "text/x-python",
   "name": "python",
   "nbconvert_exporter": "python",
   "pygments_lexer": "ipython3",
   "version": "3.10.8"
  },
  "vscode": {
   "interpreter": {
    "hash": "2469a70536e4d2335a2ea8907942d0699c37342a371ac185bdb5b0aa6f073890"
   }
  }
 },
 "nbformat": 4,
 "nbformat_minor": 0
}
