{
 "cells": [
  {
   "cell_type": "code",
   "execution_count": null,
   "metadata": {},
   "outputs": [],
   "source": [
    "import pandas as pd\n",
    "\n",
    "# Load the Excel file\n",
    "reviews = pd.concat(pd.read_excel('your/path/sourcefile.xlsx', sheet_name=None))\n",
    "\n",
    "# Set the desired number of samples for each rating score\n",
    "desired_sample_sizes = {\n",
    "    5: 50,\n",
    "    4: 50,\n",
    "    3: 100,\n",
    "    2: 150,\n",
    "    1: 150,  \n",
    "}\n",
    "\n",
    "# DataFrame to store the selected rows as a sample\n",
    "samples = pd.DataFrame()  \n",
    "\n",
    "# Iterate over the desired_sample_sizes dictionary. If there are fewer rows with the score than desired, \n",
    "# add up the rest to the desired amount for the next smaller score and add the existing rows to\n",
    "# the sample. If there are enough rows, take a sample of the desired size.\n",
    "for score, desired_size in desired_sample_sizes.items():\n",
    "    score_rows = reviews[reviews['score'] == score]\n",
    "    if len(score_rows) <= desired_size:\n",
    "        if score > 1:\n",
    "            desired_sample_sizes[score-1] += desired_size - len(score_rows)\n",
    "        samples = pd.concat([samples, score_rows])\n",
    "    else:\n",
    "        samples = pd.concat([samples, score_rows.sample(desired_size)])\n",
    "\n",
    "# Export the selected rows to a new Excel file\n",
    "samples.to_excel('your/path/outputfile.xlsx', index=False)\n",
    "\n",
    "# Print the counts\n",
    "print(\"Number of rows for each score:\")\n",
    "for score, desired_size in desired_sample_sizes.items():\n",
    "    count = len(reviews[reviews['score'] == score])\n",
    "    print(f\"Score {score}: {count}\")\n",
    "\n",
    "print(\"\\nNumber of selected rows for each score:\")\n",
    "for score, desired_size in desired_sample_sizes.items():\n",
    "    selected_count = len(samples[samples['score'] == score])\n",
    "    print(f\"Score {score}: {selected_count}\")\n"
   ]
  }
 ],
 "metadata": {
  "kernelspec": {
   "display_name": "Python 3",
   "language": "python",
   "name": "python3"
  },
  "language_info": {
   "codemirror_mode": {
    "name": "ipython",
    "version": 3
   },
   "file_extension": ".py",
   "mimetype": "text/x-python",
   "name": "python",
   "nbconvert_exporter": "python",
   "pygments_lexer": "ipython3",
   "version": "3.10.8"
  },
  "orig_nbformat": 4
 },
 "nbformat": 4,
 "nbformat_minor": 2
}
