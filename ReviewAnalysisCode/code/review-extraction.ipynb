{
 "cells": [
  {
   "cell_type": "code",
   "execution_count": 1,
   "metadata": {
    "collapsed": false
   },
   "outputs": [],
   "source": [
    "import pandas as pd\n",
    "from google_play_scraper import Sort, reviews_all"
   ]
  },
  {
   "cell_type": "code",
   "execution_count": 2,
   "metadata": {
    "collapsed": false
   },
   "outputs": [],
   "source": [
    "de_apps = ['de.taxfix', 'de.traderepublic.app', 'com.starfinanz.smob.android.sfinanzstatus', 'de.fiduciagad.banking.vr']\n",
    "au_apps = ['au.gov.ato.ATOTax', 'com.commbank.netbank', 'com.anz.android.gomoney', 'au.com.bank86400', 'org.westpac.bank', 'au.com.nab.mobile', 'com.mitrade.mobile']\n",
    "us_apps = ['com.intuit.turbotax.mobile', 'com.robinhood.android', 'com.infonow.bofa', 'com.wf.wellsfargomobile']"
   ]
  },
  {
   "cell_type": "code",
   "execution_count": null,
   "metadata": {},
   "outputs": [],
   "source": [
    "# Code base\n",
    "appnames = ['App1', 'App2', '...']\n",
    "\n",
    "for name in de_apps: # or au_apps, or us_apps, ...\n",
    "    result = reviews_all(\n",
    "        name,\n",
    "        sleep_milliseconds=0, # defaults to 0\n",
    "        lang = 'THE LANGUAGE OF THE REVIEWS', # defaults to 'en'\n",
    "        country = 'THE COUNTRY OF THE REVIEWS', # defaults to 'us'\n",
    "        sort = Sort.NEWEST, # defaults to Sort.MOST_RELEVANT\n",
    "        filter_score_with = None # defaults to None(means all score)\n",
    "    )\n",
    "\n",
    "    df = pd.DataFrame(result).drop('userImage', axis=1)\n",
    "    filetitle = appnames.pop(0) + '-Reviews.xlsx'\n",
    "    df.to_excel(filetitle, index=False)"
   ]
  }
 ],
 "metadata": {
  "kernelspec": {
   "display_name": "Python 3",
   "language": "python",
   "name": "python3"
  },
  "language_info": {
   "codemirror_mode": {
    "name": "ipython",
    "version": 3
   },
   "file_extension": ".py",
   "mimetype": "text/x-python",
   "name": "python",
   "nbconvert_exporter": "python",
   "pygments_lexer": "ipython3",
   "version": "3.10.8"
  }
 },
 "nbformat": 4,
 "nbformat_minor": 0
}
